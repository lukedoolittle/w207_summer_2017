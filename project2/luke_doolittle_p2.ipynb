{
 "cells": [
  {
   "cell_type": "markdown",
   "metadata": {},
   "source": [
    "# Project 2: Topic Classification"
   ]
  },
  {
   "cell_type": "markdown",
   "metadata": {},
   "source": [
    "In this project, you'll work with text data from newsgroup postings on a variety of topics. You'll train classifiers to distinguish between the topics based on the text of the posts. Whereas with digit classification, the input is relatively dense: a 28x28 matrix of pixels, many of which are non-zero, here we'll represent each document with a \"bag-of-words\" model. As you'll see, this makes the feature representation quite sparse -- only a few words of the total vocabulary are active in any given document. The bag-of-words assumption here is that the label depends only on the words; their order is not important.\n",
    "\n",
    "The SK-learn documentation on feature extraction will prove useful:\n",
    "http://scikit-learn.org/stable/modules/feature_extraction.html\n",
    "\n",
    "Each problem can be addressed succinctly with the included packages -- please don't add any more. Grading will be based on writing clean, commented code, along with a few short answers.\n",
    "\n",
    "As always, you're welcome to work on the project in groups and discuss ideas on the course wall, but please prepare your own write-up and write your own code."
   ]
  },
  {
   "cell_type": "code",
   "execution_count": 4,
   "metadata": {
    "ExecuteTime": {
     "end_time": "2017-07-18T00:45:00.828401Z",
     "start_time": "2017-07-18T00:45:00.805964Z"
    },
    "init_cell": true
   },
   "outputs": [],
   "source": [
    "# This tells matplotlib not to try opening a new window for each plot.\n",
    "%matplotlib inline\n",
    "\n",
    "# General libraries.\n",
    "import re\n",
    "import numpy as np\n",
    "import matplotlib.pyplot as plt\n",
    "\n",
    "# SK-learn libraries for learning.\n",
    "from sklearn.pipeline import Pipeline\n",
    "from sklearn.neighbors import KNeighborsClassifier\n",
    "from sklearn.linear_model import LogisticRegression\n",
    "from sklearn.naive_bayes import BernoulliNB\n",
    "from sklearn.naive_bayes import MultinomialNB\n",
    "from sklearn.grid_search import GridSearchCV\n",
    "\n",
    "# SK-learn libraries for evaluation.\n",
    "from sklearn.metrics import confusion_matrix\n",
    "from sklearn import metrics\n",
    "from sklearn.metrics import classification_report\n",
    "\n",
    "# SK-learn library for importing the newsgroup data.\n",
    "from sklearn.datasets import fetch_20newsgroups\n",
    "\n",
    "# SK-learn libraries for feature extraction from text.\n",
    "from sklearn.feature_extraction.text import *"
   ]
  },
  {
   "cell_type": "markdown",
   "metadata": {},
   "source": [
    "Load the data, stripping out metadata so that we learn classifiers that only use textual features. By default, newsgroups data is split into train and test sets. We further split the test so we have a dev set. Note that we specify 4 categories to use for this project. If you remove the categories argument from the fetch function, you'll get all 20 categories."
   ]
  },
  {
   "cell_type": "code",
   "execution_count": 5,
   "metadata": {
    "ExecuteTime": {
     "end_time": "2017-07-18T00:45:04.197942Z",
     "start_time": "2017-07-18T00:45:00.830466Z"
    },
    "init_cell": true
   },
   "outputs": [
    {
     "name": "stdout",
     "output_type": "stream",
     "text": [
      "training label shape: (2034,)\n",
      "test label shape: (677,)\n",
      "dev label shape: (676,)\n",
      "labels names: ['alt.atheism', 'comp.graphics', 'sci.space', 'talk.religion.misc']\n"
     ]
    }
   ],
   "source": [
    "categories = ['alt.atheism', 'talk.religion.misc', 'comp.graphics', 'sci.space']\n",
    "newsgroups_train = fetch_20newsgroups(subset='train',\n",
    "                                      remove=('headers', 'footers', 'quotes'),\n",
    "                                      categories=categories)\n",
    "newsgroups_test = fetch_20newsgroups(subset='test',\n",
    "                                     remove=('headers', 'footers', 'quotes'),\n",
    "                                     categories=categories)\n",
    "\n",
    "num_test = len(newsgroups_test.target)\n",
    "cutoff = int(num_test/2)\n",
    "test_data, test_labels = newsgroups_test.data[cutoff:], newsgroups_test.target[cutoff:]\n",
    "dev_data, dev_labels = newsgroups_test.data[:cutoff], newsgroups_test.target[:cutoff]\n",
    "train_data, train_labels = newsgroups_train.data, newsgroups_train.target\n",
    "\n",
    "print('training label shape:', train_labels.shape)\n",
    "print('test label shape:', test_labels.shape)\n",
    "print('dev label shape:', dev_labels.shape)\n",
    "print('labels names:', newsgroups_train.target_names)"
   ]
  },
  {
   "cell_type": "markdown",
   "metadata": {},
   "source": [
    "(1) For each of the first 5 training examples, print the text of the message along with the label."
   ]
  },
  {
   "cell_type": "code",
   "execution_count": 17,
   "metadata": {
    "ExecuteTime": {
     "end_time": "2017-07-08T15:16:30.217113Z",
     "start_time": "2017-07-08T15:16:30.210664Z"
    }
   },
   "outputs": [
    {
     "name": "stdout",
     "output_type": "stream",
     "text": [
      "*******comp.graphics*******\n",
      "Hi,\n",
      "\n",
      "I've noticed that if you only save a model (with all your mapping planes\n",
      "positioned carefully) to a .3DS file that when you reload it after restarting\n",
      "3DS, they are given a default position and orientation.  But if you save\n",
      "to a .PRJ file their positions/orientation are preserved.  Does anyone\n",
      "know why this information is not stored in the .3DS file?  Nothing is\n",
      "explicitly said in the manual about saving texture rules in the .PRJ file. \n",
      "I'd like to be able to read the texture rule information, does anyone have \n",
      "the format for the .PRJ file?\n",
      "\n",
      "Is the .CEL file format available from somewhere?\n",
      "\n",
      "Rych\n",
      "\n",
      "\n",
      "*******talk.religion.misc*******\n",
      "Seems to be, barring evidence to the contrary, that Koresh was simply\n",
      "another deranged fanatic who thought it neccessary to take a whole bunch of\n",
      "folks with him, children and all, to satisfy his delusional mania. Jim\n",
      "Jones, circa 1993.\n",
      "\n",
      "\n",
      "Nope - fruitcakes like Koresh have been demonstrating such evil corruption\n",
      "for centuries.\n",
      "\n",
      "\n",
      "*******sci.space*******\n",
      ">In article <1993Apr19.020359.26996@sq.sq.com>, msb@sq.sq.com (Mark Brader) \n",
      "\n",
      "MB>                                                             So the\n",
      "MB> 1970 figure seems unlikely to actually be anything but a perijove.\n",
      "\n",
      "JG>Sorry, _perijoves_...I'm not used to talking this language.\n",
      "\n",
      "Couldn't we just say periapsis or apoapsis?\n",
      "\n",
      " \n",
      "\n",
      "\n",
      "*******alt.atheism*******\n",
      "I have a request for those who would like to see Charley Wingate\n",
      "respond to the \"Charley Challenges\" (and judging from my e-mail, there\n",
      "appear to be quite a few of you.)  \n",
      "\n",
      "It is clear that Mr. Wingate intends to continue to post tangential or\n",
      "unrelated articles while ingoring the Challenges themselves.  Between\n",
      "the last two re-postings of the Challenges, I noted perhaps a dozen or\n",
      "more posts by Mr. Wingate, none of which answered a single Challenge.  \n",
      "\n",
      "It seems unmistakable to me that Mr. Wingate hopes that the questions\n",
      "will just go away, and he is doing his level best to change the\n",
      "subject.  Given that this seems a rather common net.theist tactic, I\n",
      "would like to suggest that we impress upon him our desire for answers,\n",
      "in the following manner:\n",
      "\n",
      "1. Ignore any future articles by Mr. Wingate that do not address the\n",
      "Challenges, until he answers them or explictly announces that he\n",
      "refuses to do so.\n",
      "\n",
      "--or--\n",
      "\n",
      "2. If you must respond to one of his articles, include within it\n",
      "something similar to the following:\n",
      "\n",
      "    \"Please answer the questions posed to you in the Charley Challenges.\"\n",
      "\n",
      "Really, I'm not looking to humiliate anyone here, I just want some\n",
      "honest answers.  You wouldn't think that honesty would be too much to\n",
      "ask from a devout Christian, would you?  \n",
      "\n",
      "Nevermind, that was a rhetorical question.\n",
      "\n",
      "\n",
      "*******sci.space*******\n",
      "AW&ST  had a brief blurb on a Manned Lunar Exploration confernce\n",
      "May 7th  at Crystal City Virginia, under the auspices of AIAA.\n",
      "\n",
      "Does anyone know more about this?  How much, to attend????\n",
      "\n",
      "Anyone want to go?\n",
      "\n",
      "\n"
     ]
    }
   ],
   "source": [
    "def P1(num_examples=5):\n",
    "    [print('*******{1}*******\\n{0}\\n\\n'.format(\n",
    "        train_data[i].lstrip(),\n",
    "        newsgroups_train.target_names[train_labels[i]])) \n",
    "     for i \n",
    "     in range(num_examples)]\n",
    "    \n",
    "P1()"
   ]
  },
  {
   "cell_type": "markdown",
   "metadata": {},
   "source": [
    "(2) Use CountVectorizer to turn the raw training text into feature vectors. You should use the fit_transform function, which makes 2 passes through the data: first it computes the vocabulary (\"fit\"), second it converts the raw text into feature vectors using the vocabulary (\"transform\").\n",
    "\n",
    "The vectorizer has a lot of options. To get familiar with some of them, write code to answer these questions:\n",
    "\n",
    "a. The output of the transform (also of fit_transform) is a sparse matrix: http://docs.scipy.org/doc/scipy-0.14.0/reference/generated/scipy.sparse.csr_matrix.html. What is the size of the vocabulary? What is the average number of non-zero features per example? What fraction of the entries in the matrix are non-zero? Hint: use \"nnz\" and \"shape\" attributes.\n",
    "\n",
    "b. What are the 0th and last feature strings (in alphabetical order)? Hint: use the vectorizer's get_feature_names function.\n",
    "\n",
    "c. Specify your own vocabulary with 4 words: [\"atheism\", \"graphics\", \"space\", \"religion\"]. Confirm the training vectors are appropriately shaped. Now what's the average number of non-zero features per example?\n",
    "\n",
    "d. Instead of extracting unigram word features, use \"analyzer\" and \"ngram_range\" to extract bigram and trigram character features. What size vocabulary does this yield?\n",
    "\n",
    "e. Use the \"min_df\" argument to prune words that appear in fewer than 10 documents. What size vocabulary does this yield?\n",
    "\n",
    "f. Using the standard CountVectorizer, what fraction of the words in the dev data are missing from the vocabulary? Hint: build a vocabulary for both train and dev and look at the size of the difference."
   ]
  },
  {
   "cell_type": "code",
   "execution_count": 17,
   "metadata": {
    "ExecuteTime": {
     "end_time": "2017-07-07T20:22:43.784607Z",
     "start_time": "2017-07-07T20:22:40.614668Z"
    }
   },
   "outputs": [
    {
     "name": "stdout",
     "output_type": "stream",
     "text": [
      "Vocabulary size: 26879\n",
      "Average non-zero features per example: 96\n",
      "Fraction of non-zero entries in matrix: 0.0035978272269590263\n",
      "First feature name is '00' and the last is 'zyxel'\n",
      "Average non-zero features per example with vocab size 4 and sample count 2034: 0.26843657817109146\n",
      "Vocab size for a 2-gram vectorizer: 194891\n",
      "Vocab size for a 3-gram vectorizer: 315692\n",
      "Vocab size for vectorizer with 10 document minimum: 24063\n",
      "Percentage of dev words missing from training: 0.24787640034470024\n"
     ]
    }
   ],
   "source": [
    "def P2():\n",
    "    # perform a fit-transform on a vectorizer and display the results\n",
    "    vectorizer = CountVectorizer()\n",
    "    samples = vectorizer.fit_transform(train_data)\n",
    "    sampleCount, vocabSize = samples.shape\n",
    "    print('Vocabulary size: {0}'.format(vocabSize))\n",
    "    print('Average non-zero features per example: {0}'.format( \n",
    "          int(samples.nnz / sampleCount)))\n",
    "    print('Fraction of non-zero entries in matrix: {0}'.format( \n",
    "          samples.nnz / (sampleCount * vocabSize)))\n",
    "    \n",
    "    # display the first and last feature names\n",
    "    featureNames = vectorizer.get_feature_names()\n",
    "    print('First feature name is \\'{0}\\' and the last is \\'{1}\\''.format(\n",
    "        featureNames[0], \n",
    "        featureNames[-1]))\n",
    "    \n",
    "    # fix a 4 word vocabulary on a vectorizer and display the average\n",
    "    # nonzero features per example\n",
    "    vectorizer = CountVectorizer(vocabulary=['atheism', \n",
    "                                             'graphics', \n",
    "                                             'space', \n",
    "                                             'religion'])\n",
    "    samples = vectorizer.fit_transform(train_data)\n",
    "    sampleCount, vocabSize = samples.shape\n",
    "    print('Average non-zero features per example with vocab size {0} and sample count {1}: {2}'.format(\n",
    "        vocabSize, \n",
    "        sampleCount,\n",
    "        samples.nnz / sampleCount))\n",
    "    \n",
    "    # display the vocabulary size for a bigram vectorizer\n",
    "    # and a trigram vectorizer\n",
    "    vectorizer = CountVectorizer(ngram_range=(2,2))\n",
    "    samples = vectorizer.fit_transform(train_data)\n",
    "    sampleCount, vocabSize = samples.shape\n",
    "    print('Vocab size for a bigram vectorizer:', vocabSize)\n",
    "    \n",
    "    vectorizer = CountVectorizer(ngram_range=(3,3))\n",
    "    samples = vectorizer.fit_transform(train_data)\n",
    "    sampleCount, vocabSize = samples.shape\n",
    "    print('Vocab size for a trigram vectorizer:', vocabSize)\n",
    "    \n",
    "    # display the vocabulary size if the word must appear in a\n",
    "    # minimum of 10 different documents\n",
    "    vectorizer = CountVectorizer(max_df=10)\n",
    "    samples = vectorizer.fit_transform(train_data)\n",
    "    sampleCount, vocabSize = samples.shape\n",
    "    print('Vocab size for vectorizer with 10 document minimum:', \n",
    "          vocabSize)\n",
    "    \n",
    "    # fit a vectorizer on both the training and dev data and\n",
    "    # then compute the percentage of words in the development\n",
    "    # vocabulary that do not appear in the training vocabulary\n",
    "    trainVectorizer = CountVectorizer()\n",
    "    trainVectorizer.fit_transform(train_data)\n",
    "    trainVocabulary = list(trainVectorizer.vocabulary_.keys())\n",
    "    devVectorizer = CountVectorizer()\n",
    "    devVectorizer.fit_transform(dev_data)\n",
    "    devVocabulary = list(devVectorizer.vocabulary_.keys())\n",
    "    difference = np.setdiff1d(devVocabulary, \n",
    "                              trainVocabulary)\n",
    "    print('Percentage of dev words missing from training:', \n",
    "          len(difference) / len(devVocabulary))\n",
    "P2()"
   ]
  },
  {
   "cell_type": "markdown",
   "metadata": {},
   "source": [
    "(3) Use the default CountVectorizer options and report the f1 score (use metrics.f1_score) for a k nearest neighbors classifier; find the optimal value for k. Also fit a Multinomial Naive Bayes model and find the optimal value for alpha. Finally, fit a logistic regression model and find the optimal value for the regularization strength C using l2 regularization. A few questions:\n",
    "\n",
    "a. Why doesn't nearest neighbors work well for this problem?\n",
    "\n",
    "b. Any ideas why logistic regression doesn't work as well as Naive Bayes?\n",
    "\n",
    "c. Logistic regression estimates a weight vector for each class, which you can access with the coef\\_ attribute. Output the sum of the squared weight values for each class for each setting of the C parameter. Briefly explain the relationship between the sum and the value of C."
   ]
  },
  {
   "cell_type": "code",
   "execution_count": 6,
   "metadata": {
    "ExecuteTime": {
     "end_time": "2017-07-18T00:47:21.639370Z",
     "start_time": "2017-07-18T00:45:18.923581Z"
    }
   },
   "outputs": [
    {
     "name": "stdout",
     "output_type": "stream",
     "text": [
      "KNN Classifier\n",
      "Optimal value for n_neighbors: 48\n",
      "F1 score at optimal value:  0.43433409932\n",
      "\n",
      "Naive Bayes Classifier\n",
      "Optimal value for alpha: 0.10204091428571428\n",
      "F1 score at optimal value:  0.79030523851\n",
      "\n",
      "Logistic Regression\n",
      "Optimal value for C: 0.20408172857142856\n",
      "F1 score at optimal value:  0.705873369398\n"
     ]
    },
    {
     "data": {
      "image/png": "[encoded data removed]",
      "text/plain": [
       "<matplotlib.figure.Figure at 0x10c12fe48>"
      ]
     },
     "metadata": {},
     "output_type": "display_data"
    }
   ],
   "source": [
    "def ParameterSearch(\n",
    "        classifier, \n",
    "        parameterName, \n",
    "        parameterRange):\n",
    "    # create a pipeline with a vectorizer and the given classifier\n",
    "    # and perform a grid search over the given parameter range\n",
    "    pipeline = Pipeline([\n",
    "        ('vect', CountVectorizer()),\n",
    "        ('clf', classifier),\n",
    "    ])\n",
    "    parameterKey = 'clf__{0}'.format(parameterName)\n",
    "    parameters = {\n",
    "        parameterKey : parameterRange,\n",
    "    }\n",
    "    search = GridSearchCV(\n",
    "        pipeline, \n",
    "        parameters, \n",
    "        n_jobs = -1)\n",
    "    search.fit(\n",
    "        train_data,\n",
    "        train_labels)\n",
    "    \n",
    "    # display the optimal value of the given parameter and the\n",
    "    # f1 score against the dev data\n",
    "    print('Optimal value for {0}: {1}'.format(\n",
    "        parameterName, \n",
    "        search.best_estimator_.get_params()[parameterKey]))\n",
    "    print(\"F1 score at optimal value: \", \n",
    "          metrics.f1_score(dev_labels, \n",
    "                           search.predict(dev_data), \n",
    "                           average='weighted'))\n",
    "\n",
    "def P3():\n",
    "    print('KNN Classifier')\n",
    "    ParameterSearch(\n",
    "        KNeighborsClassifier(), \n",
    "        'n_neighbors', \n",
    "        tuple(np.linspace(1,50,50,dtype=int)))\n",
    "    \n",
    "    print('\\nNaive Bayes Classifier')\n",
    "    ParameterSearch(\n",
    "        MultinomialNB(), \n",
    "        'alpha', \n",
    "        tuple(np.linspace(.0000001,5,50)))\n",
    "\n",
    "    print('\\nLogistic Regression')\n",
    "    ParameterSearch(\n",
    "        LogisticRegression(), \n",
    "        'C', \n",
    "        tuple(np.linspace(.0000001,5,50)))\n",
    "    \n",
    "    # create an array of the sum of the squares of the \n",
    "    # regression coefficients and the corresponding \n",
    "    # regularization parameter C\n",
    "    samples = CountVectorizer().fit_transform(train_data)\n",
    "    cs = np.linspace(.0000001,500,50)\n",
    "    coefs = []\n",
    "    for c in cs:\n",
    "        reg = LogisticRegression(C=c)\n",
    "        reg.fit(\n",
    "            samples,\n",
    "            train_labels)\n",
    "        coefs.append(sum(sum(reg.coef_**2)))\n",
    "    \n",
    "    plt.plot(cs, coefs)\n",
    "    plt.title('C versus Coefficients')\n",
    "    plt.xlabel(\"C\")\n",
    "    plt.ylabel(\"Logistic Regression Coefficient SS\")\n",
    "P3()"
   ]
  },
  {
   "cell_type": "markdown",
   "metadata": {},
   "source": [
    "ANSWER:\n",
    "(a) KNN in general struggles with high dimensional parameter spaces (curse of dimensionality problem). In this case we have 26,879 parameter samples, many of which may not be relevant. For example short words such as prepositions may appear so often that they do not give you any information about the label. Removing those words could help. Another technique to reduce the parameter space is to remove the suffix from words.\n",
    "\n",
    "(b) We are given a small training sample size (676) relative to the parameter space (26879). Since Logistic Regression works by estimating $p(category|text)$ directly it may overfit the data given this smaller sample size and large parameter space. On the other hand since Naive Bayes estimates a probability from a joint distribution $p(category, text)=p(text)p(text|category)$ it may be less prone to overfit in this scenario.\n",
    "\n",
    "(c) The relationship between C and the sum of squares on the coefficients appears to have a logarithmic shape. You would expect that the relationship would be positive since C is the inverse of the regularization strength. Thus as C gets larger, less regularization is taking place and the values of the coefficients can be higher. It would make sense that the function is asymptotic: at some point you will approach unregularized regression."
   ]
  },
  {
   "cell_type": "markdown",
   "metadata": {},
   "source": [
    "(4) Train a logistic regression model. Find the 5 features with the largest weights for each label -- 20 features in total. Create a table with 20 rows and 4 columns that shows the weight for each of these features for each of the labels. Create the table again with bigram features. Any surprising features in this table?"
   ]
  },
  {
   "cell_type": "code",
   "execution_count": 61,
   "metadata": {
    "ExecuteTime": {
     "end_time": "2017-07-08T16:26:08.035198Z",
     "start_time": "2017-07-08T16:26:04.210705Z"
    }
   },
   "outputs": [
    {
     "name": "stdout",
     "output_type": "stream",
     "text": [
      "Unigram Feature Weight Table\n",
      "Feature              alt.atheism     comp.graphics   sci.space       talk.religion.misc\n",
      "islam                0.53            -0.09           -0.21           -0.21          \n",
      "atheists             0.61            -0.09           -0.20           -0.42          \n",
      "religion             0.62            -0.38           -0.50           -0.02          \n",
      "atheism              0.62            -0.27           -0.27           -0.31          \n",
      "bobby                0.62            -0.15           -0.22           -0.29          \n",
      "computer             -0.00           0.68            -0.43           -0.29          \n",
      "3d                   -0.23           0.71            -0.41           -0.24          \n",
      "file                 -0.21           0.81            -0.53           -0.37          \n",
      "image                -0.34           0.83            -0.49           -0.28          \n",
      "graphics             -0.50           1.26            -0.83           -0.47          \n",
      "spacecraft           -0.22           -0.24           0.52            -0.20          \n",
      "launch               -0.27           -0.31           0.60            -0.21          \n",
      "space                -0.82           -0.88           1.51            -0.74          \n",
      "orbit                -0.27           -0.42           0.76            -0.35          \n",
      "nasa                 -0.35           -0.32           0.66            -0.32          \n",
      "order                -0.47           -0.05           -0.10           0.55           \n",
      "christian            -0.34           -0.25           -0.22           0.70           \n",
      "christians           -0.44           -0.22           -0.28           0.67           \n",
      "fbi                  -0.17           -0.15           -0.28           0.56           \n",
      "blood                -0.30           -0.08           -0.14           0.60           \n",
      "\n",
      "Bigram Feature Weight Table\n",
      "Feature              alt.atheism     comp.graphics   sci.space       talk.religion.misc\n",
      "are you              0.35            -0.19           -0.09           -0.21          \n",
      "is not               0.35            -0.18           -0.35           0.03           \n",
      "cheers kent          0.42            -0.50           -0.48           0.42           \n",
      "in this              0.36            -0.01           -0.37           -0.09          \n",
      "claim that           0.40            -0.14           -0.19           -0.08          \n",
      "comp graphics        -0.20           0.54            -0.27           -0.18          \n",
      "is there             -0.24           0.55            -0.35           -0.17          \n",
      "out there            -0.22           0.59            -0.36           -0.21          \n",
      "in advance           -0.36           0.65            -0.33           -0.32          \n",
      "looking for          -0.48           0.85            -0.37           -0.42          \n",
      "it was               -0.14           -0.24           0.41            -0.22          \n",
      "the space            -0.21           -0.39           0.67            -0.21          \n",
      "sci space            -0.19           -0.26           0.47            -0.16          \n",
      "and such             -0.16           -0.26           0.46            -0.17          \n",
      "the moon             -0.28           -0.39           0.68            -0.18          \n",
      "the word             0.05            -0.19           -0.20           0.32           \n",
      "but he               -0.12           -0.15           -0.09           0.34           \n",
      "the fbi              -0.09           -0.15           -0.22           0.42           \n",
      "cheers kent          0.42            -0.50           -0.48           0.42           \n",
      "with you             -0.16           0.04            -0.25           0.34           \n"
     ]
    }
   ],
   "source": [
    "def CreateFeatureWeightTable(ngram=(1,1)):\n",
    "    # create a pipeline with an ngram vectorizer and a logistic regression\n",
    "    # classifier and fit the data\n",
    "    pipeline = Pipeline([\n",
    "        ('vect', CountVectorizer(ngram_range=ngram)),\n",
    "        ('clf', LogisticRegression(C=.2)),\n",
    "    ])\n",
    "    pipeline.fit(\n",
    "        train_data, \n",
    "        train_labels)\n",
    "    vectorizer, classifier = pipeline.named_steps['vect'], pipeline.named_steps['clf']\n",
    "    \n",
    "    # find the indicies of the maximum coefficients for each training label\n",
    "    # and flatten that array\n",
    "    maxWeightIndicies = np.array([np.argpartition(row, -5)[-5:] \n",
    "                                  for row\n",
    "                                  in classifier.coef_]).flatten()\n",
    "\n",
    "    \n",
    "    # get the parameter names and values for each one of the indicies\n",
    "    parameterNames = np.array(vectorizer.get_feature_names())[maxWeightIndicies]\n",
    "    parameterValues = np.transpose(classifier.coef_[:, maxWeightIndicies])\n",
    "\n",
    "    # print the header row with label names\n",
    "    print('{:<20} {:<15} {:<15} {:<15} {:<15}'.format(\n",
    "            'Feature', \n",
    "            newsgroups_train.target_names[0], \n",
    "            newsgroups_train.target_names[1], \n",
    "            newsgroups_train.target_names[2], \n",
    "            newsgroups_train.target_names[3]))\n",
    "\n",
    "    # print each weight row by parameter name\n",
    "    for i in range(len(parameterNames)):\n",
    "        print('{:<20} {:<15,.2f} {:<15,.2f} {:<15,.2f} {:<15,.2f}'.format(\n",
    "                parameterNames[i], \n",
    "                parameterValues[i][0], \n",
    "                parameterValues[i][1], \n",
    "                parameterValues[i][2], \n",
    "                parameterValues[i][3]))\n",
    "\n",
    "def P4():\n",
    "    print('Unigram Feature Weight Table')\n",
    "    CreateFeatureWeightTable()\n",
    "    \n",
    "    print('\\nBigram Feature Weight Table')\n",
    "    CreateFeatureWeightTable((2,2))\n",
    "P4()"
   ]
  },
  {
   "cell_type": "markdown",
   "metadata": {},
   "source": [
    "ANSWER: In the unigram table the positively weighted features seem to make sense given the label (islam, athiest are alt.atheism, computer, 3d are comp.graphics). However in the bigram table there are a lot of seemingly unrelated noun and prepositional phrases. In addition the bigram parameter 'cheers kent' appears in both the talk.religion.misc and the alt.atheism label which, again, seems to have no relationship to the labels."
   ]
  },
  {
   "cell_type": "markdown",
   "metadata": {},
   "source": [
    "(5) Try to improve the logistic regression classifier by passing a custom preprocessor to CountVectorizer. The preprocessing function runs on the raw text, before it is split into words by the tokenizer. Your preprocessor should try to normalize the input in various ways to improve generalization. For example, try lowercasing everything, replacing sequences of numbers with a single token, removing various other non-letter characters, and shortening long words. If you're not already familiar with regular expressions for manipulating strings, see https://docs.python.org/2/library/re.html, and re.sub() in particular. With your new preprocessor, how much did you reduce the size of the dictionary?\n",
    "\n",
    "For reference, I was able to improve dev F1 by 2 points."
   ]
  },
  {
   "cell_type": "code",
   "execution_count": 146,
   "metadata": {
    "ExecuteTime": {
     "end_time": "2017-07-08T18:38:50.680152Z",
     "start_time": "2017-07-08T18:38:47.758587Z"
    }
   },
   "outputs": [
    {
     "name": "stdout",
     "output_type": "stream",
     "text": [
      "Empty preprocessor\n",
      "F1 score: 0.709\n",
      "Dictionary size: 33291\n",
      "\n",
      "Better preprocessor\n",
      "F1 score: 0.725\n",
      "Dictionary size: 20512\n",
      "\n",
      "Dictionary size reduction: 12779\n"
     ]
    }
   ],
   "source": [
    "numberRegex = re.compile(r'(\\b\\d+\\b)', re.IGNORECASE)\n",
    "specialCharacterRegex = re.compile('([^a-zA-Z0-9])', re.IGNORECASE)\n",
    "longWordsRegex = re.compile(r'(\\b\\w{15,}\\b)', re.IGNORECASE)\n",
    "shortWordsRegex = re.compile(r'(\\b\\w{1,4}\\b)', re.IGNORECASE)\n",
    "\n",
    "def empty_preprocessor(s):\n",
    "    return s\n",
    "\n",
    "def better_preprocessor(s):\n",
    "    # remove short and long words, condense all numbers down into\n",
    "    # a single number, and remove special characters\n",
    "    return numberRegex.sub(\n",
    "        'NUMBER',\n",
    "        shortWordsRegex.sub(\n",
    "            'SHORTWORD', \n",
    "            longWordsRegex.sub(\n",
    "                'LONGWORD', \n",
    "                specialCharacterRegex.sub(\n",
    "                    ' ', \n",
    "                    s.lower().replace('\\'', '')))))\n",
    "\n",
    "def GetLogisticRegressionF1Score(preprocessor):\n",
    "    # create a pipeline with a vectorizer and a logistic\n",
    "    # regression and perform a fit\n",
    "    pipeline = Pipeline([\n",
    "        ('vect', CountVectorizer(preprocessor=preprocessor)),\n",
    "        ('clf', LogisticRegression(C=.2)),\n",
    "    ])\n",
    "    pipeline.fit(\n",
    "        train_data, \n",
    "        train_labels)    \n",
    "    \n",
    "    # calculate the f1 score from predictions on dev_data\n",
    "    print('F1 score: {:.3f}'.format(\n",
    "          metrics.f1_score(dev_labels, \n",
    "                           pipeline.predict(dev_data), \n",
    "                           average='micro')))\n",
    "    \n",
    "    # get the dictionary size from the vectorizer\n",
    "    dictionarySize = len(pipeline.named_steps['vect'].vocabulary_)\n",
    "    print('Dictionary size: {0}'.format(dictionarySize))\n",
    "\n",
    "    #np.savetxt('vocab.out', list(pipeline.named_steps['vect'].vocabulary_.keys()), delimiter=',', fmt='%s')\n",
    "    return dictionarySize\n",
    "          \n",
    "def P5():\n",
    "    print('Empty preprocessor')\n",
    "    emptyPreprocessorDictionarySize = GetLogisticRegressionF1Score(empty_preprocessor)\n",
    "    \n",
    "    print('\\nBetter preprocessor')\n",
    "    betterPreprocessorDictionarySize = GetLogisticRegressionF1Score(better_preprocessor)\n",
    "    \n",
    "    print('\\nDictionary size reduction: {0} words'.format(\n",
    "        emptyPreprocessorDictionarySize - betterPreprocessorDictionarySize))\n",
    "P5()"
   ]
  },
  {
   "cell_type": "markdown",
   "metadata": {},
   "source": [
    "(6) The idea of regularization is to avoid learning very large weights (which are likely to fit the training data, but not generalize well) by adding a penalty to the total size of the learned weights. That is, logistic regression seeks the set of weights that minimizes errors in the training data AND has a small size. The default regularization, L2, computes this size as the sum of the squared weights (see P3, above). L1 regularization computes this size as the sum of the absolute values of the weights. The result is that whereas L2 regularization makes all the weights relatively small, L1 regularization drives lots of the weights to 0, effectively removing unimportant features.\n",
    "\n",
    "Train a logistic regression model using a \"l1\" penalty. Output the number of learned weights that are not equal to zero. How does this compare to the number of non-zero weights you get with \"l2\"? Now, reduce the size of the vocabulary by keeping only those features that have at least one non-zero weight and retrain a model using \"l2\".\n",
    "\n",
    "Make a plot showing accuracy of the re-trained model vs. the vocabulary size you get when pruning unused features by adjusting the C parameter.\n",
    "\n",
    "Note: The gradient descent code that trains the logistic regression model sometimes has trouble converging with extreme settings of the C parameter. Relax the convergence criteria by setting tol=.01 (the default is .0001)."
   ]
  },
  {
   "cell_type": "code",
   "execution_count": 7,
   "metadata": {
    "ExecuteTime": {
     "end_time": "2017-07-18T00:51:20.430864Z",
     "start_time": "2017-07-18T00:50:30.122775Z"
    }
   },
   "outputs": [
    {
     "name": "stdout",
     "output_type": "stream",
     "text": [
      "L1 vs L2 Comparison\n",
      "Non-zero weights with l1: 1061\n",
      "F1 score for l1 penalty: 0.692\n",
      "Non-zero weights with l2: 26879\n",
      "F1 score for l2 penalty: 0.711\n"
     ]
    },
    {
     "name": "stderr",
     "output_type": "stream",
     "text": [
      "/Users/lukedoolittle/anaconda/lib/python3.6/site-packages/sklearn/metrics/classification.py:1113: UndefinedMetricWarning: F-score is ill-defined and being set to 0.0 in labels with no predicted samples.\n",
      "  'precision', 'predicted', average, warn_for)\n"
     ]
    },
    {
     "data": {
      "image/png": "[encoded data removed]",
      "text/plain": [
       "<matplotlib.figure.Figure at 0x10c48e278>"
      ]
     },
     "metadata": {},
     "output_type": "display_data"
    }
   ],
   "source": [
    "def RunLogisticRegresionPrintResults(\n",
    "        penalty='l2', \n",
    "        C=1.0, \n",
    "        vocabulary=None):\n",
    "    score, vocabulary = RunLogisticRegression(penalty, \n",
    "                                              C, \n",
    "                                              vocabulary)\n",
    "    \n",
    "    print('Non-zero weights with {0}: {1}'.format(penalty, \n",
    "                                                  len(vocabulary)))\n",
    "    print(\"F1 score for {0} penalty: {1:.3f}\".format(penalty,\n",
    "                                                     score))\n",
    "    \n",
    "def RunLogisticRegression(\n",
    "        penalty='l2',\n",
    "        C=1.0, \n",
    "        vocabulary=None):\n",
    "    # create a train a pipeline with a vectorizer and logistic regression\n",
    "    # with the given parameters\n",
    "    pipeline = Pipeline([\n",
    "        ('vect', CountVectorizer(vocabulary=vocabulary)),\n",
    "        ('clf', LogisticRegression(C=C, \n",
    "                                   penalty=penalty, \n",
    "                                   tol=.01)),\n",
    "    ])\n",
    "    vectorizer, classifier = pipeline.named_steps['vect'], pipeline.named_steps['clf']\n",
    "    pipeline.fit(\n",
    "        train_data, \n",
    "        train_labels)\n",
    "\n",
    "    # get the vocabulary by indexing feature names by the non-zero elements\n",
    "    # across all of the labels\n",
    "    vocabulary = np.array(vectorizer.get_feature_names())[np.nonzero(np.sum(classifier.coef_, \n",
    "                                                                            axis=0))]\n",
    "    score = metrics.f1_score(dev_labels, \n",
    "                             pipeline.predict(dev_data), \n",
    "                             average='weighted')\n",
    "    return score, vocabulary\n",
    "          \n",
    "def P6():\n",
    "    # Keep this random seed here to make comparison easier.\n",
    "    np.random.seed(0)\n",
    "    \n",
    "    print('L1 vs L2 Comparison')\n",
    "    RunLogisticRegresionPrintResults(penalty='l1')\n",
    "    RunLogisticRegresionPrintResults()\n",
    "    \n",
    "    sizes = []\n",
    "    scores = []\n",
    "    for c in np.linspace(.001,100,20):\n",
    "        _, prunedVocabulary = RunLogisticRegression(C=c, \n",
    "                                                    penalty='l1')\n",
    "        score, _ = RunLogisticRegression(C=c,\n",
    "                                         vocabulary=prunedVocabulary)\n",
    "        scores.append(score)\n",
    "        sizes.append(len(prunedVocabulary))\n",
    "    \n",
    "    plt.plot(sizes, scores)\n",
    "    plt.title('Vocabulary Sizes vs Scores')\n",
    "    plt.xlabel(\"Vocabulary Size\")\n",
    "    plt.ylabel(\"F1 Score\")\n",
    "P6()"
   ]
  },
  {
   "cell_type": "markdown",
   "metadata": {},
   "source": [
    "(7) Use the TfidfVectorizer -- how is this different from the CountVectorizer? Train a logistic regression model with C=100.\n",
    "\n",
    "Make predictions on the dev data and show the top 3 documents where the ratio R is largest, where R is:\n",
    "\n",
    "maximum predicted probability / predicted probability of the correct label\n",
    "\n",
    "What kinds of mistakes is the model making? Suggest a way to address one particular issue that you see."
   ]
  },
  {
   "cell_type": "code",
   "execution_count": 222,
   "metadata": {
    "ExecuteTime": {
     "end_time": "2017-07-08T21:51:33.965030Z",
     "start_time": "2017-07-08T21:51:33.032822Z"
    }
   },
   "outputs": [
    {
     "name": "stdout",
     "output_type": "stream",
     "text": [
      "F1 score for c=100 with Tfidf vectorizer: 0.7633136094674556\n",
      "\n",
      "---Was alt.atheism but thought was talk.religion.misc---\n",
      "\n",
      "The 24 children were, of course, killed by a lone gunman in a second story\n",
      "window, who fired eight bullets in the space of two seconds...\n",
      " \n",
      "\n",
      "---Was talk.religion.misc but thought was comp.graphics---\n",
      "Can anyone provide me a ftp site where I can obtain a online version\n",
      "of the Book of Mormon. Please email the internet address if possible. \n",
      "\n",
      "---Was talk.religion.misc but thought was comp.graphics---\n",
      "I am pleased to announce that a *revised version* of _The Easy-to-Read Book\n",
      "of Mormon_ (former title: _Mormon's Book_) by Lynn Matthews Anderson is now\n",
      "available through anonymous ftp (see information below). In addition to the\n",
      "change in title, the revised ETR BOM has been shortened by several pages\n",
      "(eliminating many extraneous \"that's\" and \"of's\"), and many (minor) errors\n",
      "have been corrected. This release includes a simplified Joseph Smith Story,\n",
      "testimonies of the three and eight witnesses, and a \"Words-to-Know\"\n",
      "glossary.\n",
      "\n",
      "As with the previous announcement, readers are reminded that this is a\n",
      "not-for-profit endeavor. This is a copyrighted work, but people are welcome\n",
      "to make *verbatim* copies for personal use. People can recuperate the\n",
      "actual costs of printing (paper, copy center charges), but may not charge\n",
      "anything for their time in making copies, or in any way realize a profit\n",
      "from the use of this book. See the permissions notice in the book itself\n",
      "for the precise terms.\n",
      "\n",
      "Negotiations are currently underway with a Mormon publisher vis-a-vis the\n",
      "printing and distribution of bound books. (Sorry, I'm out of the wire-bound\n",
      "\"first editions.\") I will make another announcement about the availability\n",
      "of printed copies once everything has been worked out.\n",
      "\n",
      "FTP information: connect via anonymous ftp to carnot.itc.cmu.edu, then \"cd\n",
      "pub\" (you won't see anything at all until you do).\n",
      "\n",
      "\"The Easy-to-Read Book of Mormon\" is currently available in postscript and\n",
      "RTF (rich text format). (ASCII, LaTeX, and other versions can be made\n",
      "available; contact dba@andrew.cmu.edu for details.) You should be able to\n",
      "print the postscript file on any postscript printer (such as an Apple\n",
      "Laserwriter); let dba know if you have any difficulties. (The postscript in\n",
      "the last release had problems on some printers; this time it should work\n",
      "better.) RTF is a standard document interchange format that can be read in\n",
      "by a number of word processors, including Microsoft Word for both the\n",
      "Macintosh and Windows. If you don't have a postscript printer, you may be\n",
      "able to use the RTF file to print out a copy of the book.\n",
      "\n",
      "-r--r--r--  1 dba                   1984742 Apr 27 13:12 etrbom.ps\n",
      "-r--r--r--  1 dba                   1209071 Apr 27 13:13 etrbom.rtf\n",
      "\n",
      "For more information about how this project came about, please refer to my\n",
      "article in the current issue of _Sunstone_, entitled \"Delighting in\n",
      "Plainness: Issues Surrounding a Simple Modern English Book of Mormon.\"\n",
      "\n",
      "Send all inquiries and comments to:\n",
      "\n",
      "    Lynn Matthews Anderson\n",
      "    5806 Hampton Street\n",
      "    Pittsburgh, PA 15206 \n",
      "\n"
     ]
    }
   ],
   "source": [
    "def P7():\n",
    "    # create a train a pipeline with a vectorizer and logistic regression\n",
    "    # with the given parameters\n",
    "    pipeline = Pipeline([\n",
    "        ('vect', TfidfVectorizer()),\n",
    "        ('clf', LogisticRegression(C=100)),\n",
    "    ])\n",
    "    vectorizer, classifier = pipeline.named_steps['vect'], pipeline.named_steps['clf']\n",
    "    pipeline.fit(\n",
    "        train_data, \n",
    "        train_labels)\n",
    "    score = metrics.f1_score(dev_labels, \n",
    "                         pipeline.predict(dev_data), \n",
    "                         average='micro')\n",
    "    print('F1 score for c=100 with Tfidf vectorizer: {0}\\n'.format(score))\n",
    "    \n",
    "    # get the dev data label probabilities from the trained classifier\n",
    "    labelProbabilities = classifier.predict_proba(vectorizer.transform(dev_data))\n",
    "    \n",
    "    # find the maximum predicted probability for each sample\n",
    "    maximumProbability = np.amax(labelProbabilities, \n",
    "                                          axis=1)\n",
    "    \n",
    "    # find the predicted probability of the correct label\n",
    "    probabilityOfCorrectLabel = labelProbabilities[np.array(range(len(dev_labels))), \n",
    "                                                   dev_labels]\n",
    "    \n",
    "    # get the indicies of the largest confidence errors\n",
    "    maxIndicies = np.argpartition(maximumProbability / probabilityOfCorrectLabel, -3)[-3:]\n",
    "    \n",
    "    # print out the text for the 3 most mistaken dev examples\n",
    "    for doc in maxIndicies:\n",
    "        print('---Was {0} but thought was {1}---'.format(newsgroups_train.target_names[dev_labels[doc]], \n",
    "                                                         newsgroups_train.target_names[np.argmax(labelProbabilities[doc])]))\n",
    "        print(dev_data[doc], '\\n')\n",
    "\n",
    "\n",
    "P7() "
   ]
  },
  {
   "cell_type": "markdown",
   "metadata": {},
   "source": [
    "ANSWER: The count vectorizer simply computes the sum of all the words in a document. The Tfidf vectorizer essentially computes how 'important' a particular word is to a specific document. It is the product of the term frequency in the document with the information provided across all documents.\n",
    "\n",
    "The first mistaken example is very short and is an atheism/religion mismatch which seems highly likely. The other two are both religion/computer mismatches and occur because there is a large ratio of tech speak (ftp, email) to other words and that seems to outweigh the sole religious term 'Morman'.\n",
    "\n",
    "One way to fix this would be to create a customized list of stop words. Since we are dealing with newsgroup text one could assume that the usage of tech words like email and ftp are just a quality of the environment of the text. Similarly you could set an upper limit on the document frequency, max_df, for the vectorizer which should eliminate these more prevalant words.\n",
    "\n",
    "Another solution might be to add in n-gram features to try and capture the 'sentiment' of some of the words in the document. In the last example he or she seems to be speaking highly of the Book of Morman which is a concept you might find would be associated with talk.religion.misc rather than comp.graphics."
   ]
  },
  {
   "cell_type": "markdown",
   "metadata": {},
   "source": [
    "(8) EXTRA CREDIT\n",
    "\n",
    "Try implementing one of your ideas based on your error analysis. Use logistic regression as your underlying model."
   ]
  },
  {
   "cell_type": "code",
   "execution_count": null,
   "metadata": {
    "collapsed": true
   },
   "outputs": [],
   "source": []
  }
 ],
 "metadata": {
  "celltoolbar": "Initialization Cell",
  "kernelspec": {
   "display_name": "Python 3",
   "language": "python",
   "name": "python3"
  },
  "language_info": {
   "codemirror_mode": {
    "name": "ipython",
    "version": 3
   },
   "file_extension": ".py",
   "mimetype": "text/x-python",
   "name": "python",
   "nbconvert_exporter": "python",
   "pygments_lexer": "ipython3",
   "version": "3.6.1"
  }
 },
 "nbformat": 4,
 "nbformat_minor": 1
}
