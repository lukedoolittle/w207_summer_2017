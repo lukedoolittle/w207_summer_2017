{
 "cells": [
  {
   "cell_type": "markdown",
   "metadata": {},
   "source": [
    "# Project 1: Digit Classification with KNN and Naive Bayes"
   ]
  },
  {
   "cell_type": "markdown",
   "metadata": {},
   "source": [
    "In this project, you'll implement your own image recognition system for classifying digits. Read through the code and the instructions carefully and add your own code where indicated. Each problem can be addressed succinctly with the included packages -- please don't add any more. Grading will be based on writing clean, commented code, along with a few short answers.\n",
    "\n",
    "As always, you're welcome to work on the project in groups and discuss ideas on the course wall, but <b> please prepare your own write-up (with your own code). </b>\n",
    "\n",
    "If you're interested, check out these links related to digit recognition:\n",
    "\n",
    "Yann Lecun's MNIST benchmarks: http://yann.lecun.com/exdb/mnist/\n",
    "\n",
    "Stanford Streetview research and data: http://ufldl.stanford.edu/housenumbers/"
   ]
  },
  {
   "cell_type": "code",
   "execution_count": 1,
   "metadata": {},
   "outputs": [
    {
     "name": "stderr",
     "output_type": "stream",
     "text": [
      "/Users/lukedoolittle/anaconda/lib/python3.6/site-packages/sklearn/cross_validation.py:44: DeprecationWarning: This module was deprecated in version 0.18 in favor of the model_selection module into which all the refactored classes and functions are moved. Also note that the interface of the new CV iterators are different from that of this module. This module will be removed in 0.20.\n",
      "  \"This module will be removed in 0.20.\", DeprecationWarning)\n",
      "/Users/lukedoolittle/anaconda/lib/python3.6/site-packages/sklearn/grid_search.py:43: DeprecationWarning: This module was deprecated in version 0.18 in favor of the model_selection module into which all the refactored classes and functions are moved. This module will be removed in 0.20.\n",
      "  DeprecationWarning)\n"
     ]
    }
   ],
   "source": [
    "# This tells matplotlib not to try opening a new window for each plot.\n",
    "%matplotlib inline\n",
    "\n",
    "# Import a bunch of libraries.\n",
    "import time\n",
    "import numpy as np\n",
    "import matplotlib.pyplot as plt\n",
    "from matplotlib.ticker import MultipleLocator\n",
    "from sklearn.pipeline import Pipeline\n",
    "from sklearn.datasets import fetch_mldata\n",
    "from sklearn.neighbors import KNeighborsClassifier\n",
    "from sklearn.metrics import confusion_matrix\n",
    "from sklearn.linear_model import LinearRegression\n",
    "from sklearn.naive_bayes import BernoulliNB\n",
    "from sklearn.naive_bayes import MultinomialNB\n",
    "from sklearn.naive_bayes import GaussianNB\n",
    "from sklearn.grid_search import GridSearchCV\n",
    "from sklearn.metrics import classification_report\n",
    "\n",
    "# Set the randomizer seed so results are the same each time.\n",
    "np.random.seed(0)"
   ]
  },
  {
   "cell_type": "markdown",
   "metadata": {},
   "source": [
    "Load the data. Notice that we are splitting the data into training, development, and test. We also have a small subset of the training data called mini_train_data and mini_train_labels that you should use in all the experiments below, unless otherwise noted."
   ]
  },
  {
   "cell_type": "code",
   "execution_count": 2,
   "metadata": {},
   "outputs": [
    {
     "name": "stdout",
     "output_type": "stream",
     "text": [
      "data shape:  (70000, 784)\n",
      "label shape: (70000,)\n"
     ]
    }
   ],
   "source": [
    "# Load the digit data either from mldata.org, or once downloaded to data_home, from disk. The data is about 53MB so this cell\n",
    "# should take a while the first time your run it.\n",
    "mnist = fetch_mldata('MNIST original', data_home='~/datasets/mnist')\n",
    "X, Y = mnist.data, mnist.target\n",
    "\n",
    "# Rescale grayscale values to [0,1].\n",
    "X = X / 255.0\n",
    "\n",
    "# Shuffle the input: create a random permutation of the integers between 0 and the number of data points and apply this\n",
    "# permutation to X and Y.\n",
    "# NOTE: Each time you run this cell, you'll re-shuffle the data, resulting in a different ordering.\n",
    "shuffle = np.random.permutation(np.arange(X.shape[0]))\n",
    "X, Y = X[shuffle], Y[shuffle]\n",
    "\n",
    "print('data shape: ', X.shape)\n",
    "print('label shape:', Y.shape)\n",
    "\n",
    "# Set some variables to hold test, dev, and training data.\n",
    "test_data, test_labels = X[61000:], Y[61000:]\n",
    "dev_data, dev_labels = X[60000:61000], Y[60000:61000]\n",
    "train_data, train_labels = X[:60000], Y[:60000]\n",
    "mini_train_data, mini_train_labels = X[:1000], Y[:1000]"
   ]
  },
  {
   "cell_type": "markdown",
   "metadata": {},
   "source": [
    "(1) Create a 10x10 grid to visualize 10 examples of each digit. Python hints:\n",
    "\n",
    "- plt.rc() for setting the colormap, for example to black and white\n",
    "- plt.subplot() for creating subplots\n",
    "- plt.imshow() for rendering a matrix\n",
    "- np.array.reshape() for reshaping a 1D feature vector into a 2D matrix (for rendering)"
   ]
  },
  {
   "cell_type": "code",
   "execution_count": 3,
   "metadata": {},
   "outputs": [
    {
     "data": {
      "image/png": "[encoded data removed]",
      "text/plain": [
       "<matplotlib.figure.Figure at 0x117f56a20>"
      ]
     },
     "metadata": {},
     "output_type": "display_data"
    }
   ],
   "source": [
    "IMAGE_HEIGHT = 28\n",
    "IMAGE_WIDTH = 28\n",
    "\n",
    "class ImageSet:\n",
    "    def __init__(\n",
    "            self, \n",
    "            imageVector, \n",
    "            imageHeight = IMAGE_HEIGHT, \n",
    "            imageWidth = IMAGE_WIDTH):\n",
    "        self._imageVector = imageVector\n",
    "        self._imageHeight = imageHeight\n",
    "        self._imageWidth = imageWidth\n",
    "    \n",
    "    def __getitem__(\n",
    "            self, \n",
    "            key):\n",
    "        # create a matrix of width and height by reshaping\n",
    "        # the given vector of pixel values\n",
    "        return self._imageVector[key, :].reshape((\n",
    "            self._imageHeight, \n",
    "            self._imageWidth))\n",
    "\n",
    "def P1(num_examples=10):\n",
    "    f, subplots = plt.subplots(\n",
    "        10, \n",
    "        num_examples)\n",
    "    \n",
    "    Images = ImageSet(train_data)\n",
    "    \n",
    "    for digit in range(10):\n",
    "        # find indicies in training_labels for the current digit\n",
    "        matchingLabels = [index \n",
    "                          for index in range(train_labels.size) \n",
    "                          if train_labels[index] == digit]\n",
    "        \n",
    "        for exampleNumber in range(num_examples):\n",
    "            # for each example get the equivalent pixel matrix\n",
    "            # and plot the grayscale bitmap\n",
    "            subplots[digit, exampleNumber].axis('off')\n",
    "            subplots[digit, exampleNumber].imshow(\n",
    "                Images[matchingLabels[exampleNumber]], \n",
    "                cmap='gray')\n",
    "\n",
    "P1(10)"
   ]
  },
  {
   "cell_type": "markdown",
   "metadata": {},
   "source": [
    "(2) Evaluate a K-Nearest-Neighbors model with k = [1,3,5,7,9] using the mini training set. Report accuracy on the dev set. For k=1, show precision, recall, and F1 for each label. Which is the most difficult digit?\n",
    "\n",
    "- KNeighborsClassifier() for fitting and predicting\n",
    "- classification_report() for producing precision, recall, F1 results"
   ]
  },
  {
   "cell_type": "code",
   "execution_count": 4,
   "metadata": {},
   "outputs": [
    {
     "name": "stdout",
     "output_type": "stream",
     "text": [
      "             precision    recall  f1-score   support\n",
      "\n",
      "        0.0       0.91      0.98      0.94        99\n",
      "        1.0       0.89      1.00      0.94       105\n",
      "        2.0       0.99      0.79      0.88       102\n",
      "        3.0       0.77      0.87      0.82        86\n",
      "        4.0       0.89      0.82      0.85       104\n",
      "        5.0       0.93      0.84      0.88        91\n",
      "        6.0       0.94      0.96      0.95        98\n",
      "        7.0       0.89      0.92      0.90       113\n",
      "        8.0       0.94      0.88      0.91        96\n",
      "        9.0       0.78      0.82      0.80       106\n",
      "\n",
      "avg / total       0.89      0.89      0.89      1000\n",
      "\n"
     ]
    },
    {
     "data": {
      "image/png": "[encoded data removed]",
      "text/plain": [
       "<matplotlib.figure.Figure at 0x121060b00>"
      ]
     },
     "metadata": {},
     "output_type": "display_data"
    }
   ],
   "source": [
    "def P2(k_values):\n",
    "    accuracies = []\n",
    "    \n",
    "    # fit and score a KNN classifier for each given\n",
    "    # value of k\n",
    "    for k in k_values:\n",
    "        classifier = KNeighborsClassifier(k)\n",
    "        classifier.fit(\n",
    "            mini_train_data, \n",
    "            mini_train_labels) \n",
    "        accuracies.append(classifier.score(\n",
    "            dev_data, \n",
    "            dev_labels) * 100.0)\n",
    "    \n",
    "    # plot the accuracies against the values of k\n",
    "    plt.plot(k_values, accuracies)\n",
    "    plt.title('KNN Accuracy vs K')\n",
    "    plt.xlabel(\"k\")\n",
    "    plt.ylabel(\"Accuracy (%)\")\n",
    "    \n",
    "    # fit and generate a classification report for\n",
    "    # a KNN with k=1\n",
    "    classifier = KNeighborsClassifier(1)\n",
    "    classifier.fit(\n",
    "        mini_train_data, \n",
    "        mini_train_labels) \n",
    "    devPredictions = classifier.predict(dev_data)\n",
    "    print(classification_report(\n",
    "        dev_labels, \n",
    "        devPredictions))\n",
    "\n",
    "k_values = [1, 3, 5, 7, 9]\n",
    "P2(k_values)"
   ]
  },
  {
   "cell_type": "markdown",
   "metadata": {},
   "source": [
    "ANSWER: Going by the F1 score the digit \"9\" is the most difficult to predict"
   ]
  },
  {
   "cell_type": "markdown",
   "metadata": {},
   "source": [
    "(3) Using k=1, report dev set accuracy for the training set sizes below. Also, measure the amount of time needed for prediction with each training size.\n",
    "\n",
    "- time.time() gives a wall clock value you can use for timing operations"
   ]
  },
  {
   "cell_type": "code",
   "execution_count": 77,
   "metadata": {},
   "outputs": [
    {
     "data": {
      "image/png": "[encoded data removed]",
      "text/plain": [
       "<matplotlib.figure.Figure at 0x12311aba8>"
      ]
     },
     "metadata": {},
     "output_type": "display_data"
    }
   ],
   "source": [
    "def P3(train_sizes, accuracies):\n",
    "    trainingTimes = []\n",
    "    classifier = KNeighborsClassifier(1)\n",
    "    \n",
    "    for trainSize in train_sizes:\n",
    "        # take trainSize data from the train_data set and then\n",
    "        # run the KNN evaluation function while\n",
    "        # logging the begin and end time\n",
    "        startTime = time.time()\n",
    "        classifier.fit(\n",
    "            train_data[:trainSize], \n",
    "            train_labels[:trainSize]) \n",
    "        accuracy = classifier.score(\n",
    "            dev_data, \n",
    "            dev_labels) * 100.00\n",
    "        endTime = time.time()\n",
    "        \n",
    "        accuracies.append(accuracy)\n",
    "        trainingTimes.append((endTime - startTime))\n",
    "    \n",
    "    # plot training size versus accuracy and versus training time\n",
    "    f, subplot = plt.subplots(2, sharex = True)\n",
    "    \n",
    "    subplot[0].plot(train_sizes, accuracies)\n",
    "    subplot[0].set_title('KNN Training Set Size vs Accuracy (k=1)')\n",
    "    subplot[0].set_ylabel('Accuracy (%)')\n",
    "    \n",
    "    subplot[1].plot(train_sizes, trainingTimes)\n",
    "    subplot[1].set_title('KNN Training Set Size vs Training Time (k=1)')\n",
    "    subplot[1].set_ylabel('Time (s)')\n",
    "    subplot[1].set_xlabel('Training Set Size')\n",
    "    \n",
    "train_sizes = [100, 200, 400, 800, 1600, 3200, 6400, 12800, 25000]\n",
    "accuracies = []\n",
    "P3(train_sizes, accuracies)"
   ]
  },
  {
   "cell_type": "markdown",
   "metadata": {},
   "source": [
    "(4) Fit a regression model that predicts accuracy from training size. What does it predict for n=60000? What's wrong with using regression here? Can you apply a transformation that makes the predictions more reasonable?\n",
    "\n",
    "- Remember that the sklearn fit() functions take an input matrix X and output vector Y. So each input example in X is a vector, even if it contains only a single value."
   ]
  },
  {
   "cell_type": "code",
   "execution_count": 82,
   "metadata": {},
   "outputs": [
    {
     "name": "stdout",
     "output_type": "stream",
     "text": [
      "Predicted accuracy for 60000 training samples: 124.3%\n",
      "Predicted accuracy for 60000 training samples with sigmoid transform: 98.1%\n"
     ]
    }
   ],
   "source": [
    "def sigmoid(x):\n",
    "    return 100.0 / (1.0 + np.exp(-2.5 * x / 100.0))\n",
    "\n",
    "def P4():\n",
    "    # fit a \"dumb\" regression line to predict\n",
    "    classifier = LinearRegression(fit_intercept=True)\n",
    "    classifier.fit(\n",
    "        np.transpose([train_sizes]), \n",
    "        accuracies) \n",
    "    prediction = classifier.predict(np.array([[60000]]))\n",
    "    print('Predicted accuracy for 60000 training samples: {:.1f}%'\n",
    "          .format(prediction[0]))\n",
    "    \n",
    "    # use a sigmoid transform on the training sizes before predicting\n",
    "    classifier.fit(\n",
    "        np.transpose([train_sizes]), \n",
    "        sigmoid(np.array(accuracies)))\n",
    "    prediction = classifier.predict(np.array([[60000]]))\n",
    "    print('Predicted accuracy for 60000 training samples with sigmoid transform: {:.1f}%'\n",
    "          .format(prediction[0]))\n",
    "P4()"
   ]
  },
  {
   "cell_type": "markdown",
   "metadata": {},
   "source": [
    "ANSWER: It predicts 124% accuracy for 60000 training examples. Using linear regression is problematic here because, as we can see from the above plot, the relationship between training set size and accuracy is non linear. In general the relationship between a predictive model accuracy and training set size, according to the literature, is logarithmic. But we also know that, at a maximum the accuracy is 100% so we might try an inverse transform with an asymptote at 100% such as an adjusted sigmoid. This yields a predicted accuracy of ~98%."
   ]
  },
  {
   "cell_type": "markdown",
   "metadata": {},
   "source": [
    "Fit a 1-NN and output a confusion matrix for the dev data. Use the confusion matrix to identify the most confused pair of digits, and display a few example mistakes.\n",
    "\n",
    "- confusion_matrix() produces a confusion matrix"
   ]
  },
  {
   "cell_type": "code",
   "execution_count": 7,
   "metadata": {},
   "outputs": [
    {
     "name": "stdout",
     "output_type": "stream",
     "text": [
      "Some examples of where a 4 was thought to be a 9 and vice versa\n"
     ]
    },
    {
     "data": {
      "image/png": "[encoded data removed]",
      "text/plain": [
       "<matplotlib.figure.Figure at 0x11ada97f0>"
      ]
     },
     "metadata": {},
     "output_type": "display_data"
    }
   ],
   "source": [
    "def P5():\n",
    "    MAX_EXAMPLES = 7\n",
    "    \n",
    "    # make predictions with a KNN of k=1 and\n",
    "    # create the confusion matrix\n",
    "    classifier = KNeighborsClassifier(1)\n",
    "    classifier.fit(            \n",
    "            mini_train_data, \n",
    "            mini_train_labels)\n",
    "    predictions = classifier.predict(dev_data)\n",
    "    confusion = confusion_matrix(\n",
    "            dev_labels, \n",
    "            predictions)\n",
    "    \n",
    "    # flip the confusion matrix to be upper triangular with nothing on the\n",
    "    # diagonal to indicate \"directionless\" digit to digit classification\n",
    "    # errors\n",
    "    confusedPairs = np.triu(confusion) + np.transpose(np.tril(confusion))\n",
    "    np.fill_diagonal(confusedPairs, 0)\n",
    "    \n",
    "    # find the indicies of the maximum value in the confusion matrix\n",
    "    # to determine the most confused digit pairs then find the \n",
    "    # indicies of the errors in dev_labels\n",
    "    digit1, digit2 = np.unravel_index(\n",
    "        confusedPairs.argmax(), \n",
    "        confusedPairs.shape)\n",
    "    errorsInDevPredictions = [i for i in range(dev_labels.size) \n",
    "            if (dev_labels[i] == digit1 and predictions[i] == digit2) or\n",
    "               (dev_labels[i] == digit2 and predictions[i] == digit1)]\n",
    "    \n",
    "    # take a sample of the errors and plot them\n",
    "    errorExamples = errorsInDevPredictions[:MAX_EXAMPLES]\n",
    "    f, subplots = plt.subplots(\n",
    "        1, \n",
    "        len(errorExamples))\n",
    "    \n",
    "    Images = ImageSet(dev_data)\n",
    "    \n",
    "    for errorNumber, error in enumerate(errorExamples):\n",
    "        subplots[errorNumber].axis('off')\n",
    "        subplots[errorNumber].imshow(\n",
    "            Images[error],\n",
    "            cmap='gray')\n",
    "\n",
    "    print('Some examples of where a {0} was thought to be a {1} and vice versa'.format(\n",
    "        digit1, \n",
    "        digit2))\n",
    "P5()"
   ]
  },
  {
   "cell_type": "markdown",
   "metadata": {},
   "source": [
    "(6) A common image processing technique is to smooth an image by blurring. The idea is that the value of a particular pixel is estimated as the weighted combination of the original value and the values around it. Typically, the blurring is Gaussian -- that is, the weight of a pixel's influence is determined by a Gaussian function over the distance to the relevant pixel.\n",
    "\n",
    "Implement a simplified Gaussian blur by just using the 8 neighboring pixels: the smoothed value of a pixel is a weighted combination of the original value and the 8 neighboring values. Try applying your blur filter in 3 ways:\n",
    "- preprocess the training data but not the dev data\n",
    "- preprocess the dev data but not the training data\n",
    "- preprocess both training and dev data\n",
    "\n",
    "Note that there are Guassian blur filters available, for example in scipy.ndimage.filters. You're welcome to experiment with those, but you are likely to get the best results with the simplified version I described above."
   ]
  },
  {
   "cell_type": "code",
   "execution_count": 11,
   "metadata": {},
   "outputs": [
    {
     "name": "stdout",
     "output_type": "stream",
     "text": [
      "Accuracy with no blurring: 88.8%\n",
      "Accuracy with blurred training data only: 90.9%\n",
      "Accuracy with blurred dev data only: 87.1%\n",
      "Accuracy with blurred training and dev data: 90.3%\n"
     ]
    }
   ],
   "source": [
    "def boxBlur(\n",
    "        target, \n",
    "        xSize = IMAGE_HEIGHT, \n",
    "        ySize = IMAGE_WIDTH, \n",
    "        neighborhood = 1):\n",
    "    neighborCount = (2 * neighborhood + 1) ** 2\n",
    "    \n",
    "    # transform the array into a matrix of the given image dimension\n",
    "    target = target.reshape(xSize, ySize)\n",
    "    blurredTarget = np.zeros((xSize, ySize))\n",
    "    \n",
    "    # for each x,y coordinate the blurredTarget will be the sum of \n",
    "    # each neighbor, or 0 if outsize of the matrix dimensions, divided\n",
    "    # by the neighborCount\n",
    "    for y in range(ySize):\n",
    "        for x in range(xSize):\n",
    "            blurredTarget[x][y] = (np.sum(\n",
    "                target[\n",
    "                    max(x - neighborhood, 0) : min(x + neighborhood + 1, xSize), \n",
    "                    max(y - neighborhood, 0) : min(y + neighborhood + 1, ySize)]) \n",
    "                / neighborCount)\n",
    "            \n",
    "    return np.array(blurredTarget).flatten()\n",
    "\n",
    "def P6(): \n",
    "    # create blurred training and dev data\n",
    "    blurredTrainData = [boxBlur(mini_train_data[i, :]) \n",
    "                        for i in range(mini_train_data.shape[0])]\n",
    "    \n",
    "    blurredDevData = [boxBlur(dev_data[i, :]) \n",
    "                      for i in range(dev_data.shape[0])]\n",
    "    \n",
    "    # fit and score each combination of blurred and non-blurred\n",
    "    # train and dev data\n",
    "    classifier = KNeighborsClassifier(1)\n",
    "    \n",
    "    classifier.fit(\n",
    "        mini_train_data, \n",
    "        mini_train_labels)\n",
    "    accuracyNoBlur = classifier.score(\n",
    "        dev_data,\n",
    "        dev_labels)\n",
    "    accuracyBlurDev = classifier.score(\n",
    "        blurredDevData,\n",
    "        dev_labels)  \n",
    "    \n",
    "    classifier.fit(\n",
    "        blurredTrainData, \n",
    "        mini_train_labels)\n",
    "    accuracyBlurTrain = classifier.score(\n",
    "        dev_data,\n",
    "        dev_labels)\n",
    "    accuracyBlurTrainAndDev = classifier.score(\n",
    "        blurredDevData,\n",
    "        dev_labels) \n",
    "    \n",
    "    print('Accuracy with no blurring: {:.1f}%'.format(accuracyNoBlur * 100.0))\n",
    "    print('Accuracy with blurred training data only: {:.1f}%'.format(accuracyBlurTrain * 100.0))\n",
    "    print('Accuracy with blurred dev data only: {:.1f}%'.format(accuracyBlurDev * 100.0))\n",
    "    print('Accuracy with blurred training and dev data: {:.1f}%'.format(accuracyBlurTrainAndDev * 100.0))\n",
    "\n",
    "P6()"
   ]
  },
  {
   "cell_type": "markdown",
   "metadata": {},
   "source": [
    "ANSWER: The key component is blurring the training data as that blur may help reduce variance."
   ]
  },
  {
   "cell_type": "markdown",
   "metadata": {},
   "source": [
    "(7) Fit a Naive Bayes classifier and report accuracy on the dev data. Remember that Naive Bayes estimates P(feature|label). While sklearn can handle real-valued features, let's start by mapping the pixel values to either 0 or 1. You can do this as a preprocessing step, or with the binarize argument. With binary-valued features, you can use BernoulliNB. Next try mapping the pixel values to 0, 1, or 2, representing white, grey, or black. This mapping requires MultinomialNB. Does the multi-class version improve the results? Why or why not?"
   ]
  },
  {
   "cell_type": "code",
   "execution_count": 12,
   "metadata": {},
   "outputs": [
    {
     "name": "stdout",
     "output_type": "stream",
     "text": [
      "Binary Naive Bayes accuracy on dev data: 81.5%\n",
      "Multinomial Naive Bayes accuracy on dev data: 80.1%\n"
     ]
    }
   ],
   "source": [
    "def P7():\n",
    "    # fit and score a Bernoulli Naive Bayes with .5 as the binarization\n",
    "    # cutoff\n",
    "    classifier = BernoulliNB(binarize=0.5)\n",
    "    classifier.fit(\n",
    "        mini_train_data, \n",
    "        mini_train_labels)\n",
    "    binaryAccuracy = classifier.score(\n",
    "        dev_data,\n",
    "        dev_labels)\n",
    "    print('Binary Naive Bayes accuracy on dev data: {:.1f}%'.format(binaryAccuracy * 100.0))\n",
    "    \n",
    "    # fit and score a Multinomial Naive Bayes with 3 equally spaced buckets\n",
    "    bins = np.array([1.0/3.0, 2.0/3.0, 1.0])\n",
    "    \n",
    "    classifier = MultinomialNB()\n",
    "    classifier.fit(\n",
    "        np.digitize(mini_train_data, bins), \n",
    "        mini_train_labels)\n",
    "    multinomialAccuracy  = classifier.score(\n",
    "        np.digitize(dev_data, bins),\n",
    "        dev_labels)\n",
    "    print('Multinomial Naive Bayes accuracy on dev data: {:.1f}%'.format(multinomialAccuracy * 100.0))\n",
    "\n",
    "P7()"
   ]
  },
  {
   "cell_type": "markdown",
   "metadata": {},
   "source": [
    "ANSWER: The result of the multinomial is about the same as for the binary. Given what we can deduce about the issues in the accuracy above (for example 4's interpreted as 9's has more to do with loops in the strokes) it is unlikely partitioning the parameters into 3 buckets instead of 2 will have much impact on the final result."
   ]
  },
  {
   "cell_type": "markdown",
   "metadata": {},
   "source": [
    "(8) Use GridSearchCV to perform a search over values of alpha (the Laplace smoothing parameter) in a Bernoulli NB model. What is the best value for alpha? What is the accuracy when alpha=0? Is this what you'd expect?\n",
    "\n",
    "- Note that GridSearchCV partitions the training data so the results will be a bit different than if you used the dev data for evaluation."
   ]
  },
  {
   "cell_type": "code",
   "execution_count": 8,
   "metadata": {},
   "outputs": [
    {
     "name": "stderr",
     "output_type": "stream",
     "text": [
      "/Users/lukedoolittle/anaconda/lib/python3.6/site-packages/sklearn/naive_bayes.py:801: RuntimeWarning: divide by zero encountered in log\n",
      "  self.feature_log_prob_ = (np.log(smoothed_fc) -\n",
      "/Users/lukedoolittle/anaconda/lib/python3.6/site-packages/sklearn/naive_bayes.py:801: RuntimeWarning: divide by zero encountered in log\n",
      "  self.feature_log_prob_ = (np.log(smoothed_fc) -\n",
      "/Users/lukedoolittle/anaconda/lib/python3.6/site-packages/sklearn/naive_bayes.py:820: RuntimeWarning: divide by zero encountered in log\n",
      "  neg_prob = np.log(1 - np.exp(self.feature_log_prob_))\n",
      "/Users/lukedoolittle/anaconda/lib/python3.6/site-packages/sklearn/naive_bayes.py:801: RuntimeWarning: divide by zero encountered in log\n",
      "  self.feature_log_prob_ = (np.log(smoothed_fc) -\n"
     ]
    },
    {
     "name": "stdout",
     "output_type": "stream",
     "text": [
      "Best value of alpha: 0.01\n",
      "Best score: 82.1%\n",
      "Score w/ Alpha at 0: 9.2%\n"
     ]
    }
   ],
   "source": [
    "def P8(alphas):\n",
    "    # fit a Bernoulli Naive Bayes and use GridSearchCV to find the optimal\n",
    "    # value of Alpha\n",
    "    naiveBayesSearch = GridSearchCV(\n",
    "        BernoulliNB(binarize=0.5), \n",
    "        alphas)\n",
    "    naiveBayesSearch.fit(\n",
    "        mini_train_data, \n",
    "        mini_train_labels)\n",
    "    print('Best value of alpha:', naiveBayesSearch.best_params_['alpha'])\n",
    "    print('Best score: {:.1f}%'.format(naiveBayesSearch.best_score_ * 100))\n",
    "    print('Score w/ Alpha at 0: {:.1f}%'.format(naiveBayesSearch.grid_scores_[0][1] * 100))\n",
    "\n",
    "alphas = {'alpha': [0.0, 0.0001, 0.001, 0.01, 0.1, 0.5, 1.0, 2.0, 10.0]}\n",
    "nb = P8(alphas)"
   ]
  },
  {
   "cell_type": "code",
   "execution_count": 9,
   "metadata": {},
   "outputs": [],
   "source": [
    "# print(naiveBayesSearch.best_params_)"
   ]
  },
  {
   "cell_type": "markdown",
   "metadata": {},
   "source": [
    "ANSWER: The best value of alpha is at .01 and gives a score of 82.1%. The score for alpha at 0 is only 9.2%. This actually isn't too surprising in general because NB with no smoothing and a smaller training set is known to have lower accuracy. In addition it appears that the sklearn NBBernoulli has some internal issues when alpha is set to zero, as indicated here https://github.com/scikit-learn/scikit-learn/issues/5814"
   ]
  },
  {
   "cell_type": "markdown",
   "metadata": {},
   "source": [
    "(9) Try training a model using GuassianNB, which is intended for real-valued features, and evaluate on the dev data. You'll notice that it doesn't work so well. Try to diagnose the problem. You should be able to find a simple fix that returns the accuracy to around the same rate as BernoulliNB. Explain your solution.\n",
    "\n",
    "Hint: examine the parameters estimated by the fit() method, theta\\_ and sigma\\_."
   ]
  },
  {
   "cell_type": "code",
   "execution_count": 6,
   "metadata": {},
   "outputs": [
    {
     "name": "stdout",
     "output_type": "stream",
     "text": [
      "Accuracy of Gaussian Naive Bayes: 62.1%\n",
      "Accuracy of Gaussian Naive Bayes with adjusted sigma: 80.2%\n"
     ]
    }
   ],
   "source": [
    "def P9():\n",
    "    # fit and score a Gaussian Naive Bayes\n",
    "    classifier = GaussianNB()\n",
    "    classifier.fit(\n",
    "        mini_train_data, \n",
    "        mini_train_labels)\n",
    "    accuracy = classifier.score(\n",
    "        dev_data, \n",
    "        dev_labels)\n",
    "    \n",
    "    # now try to override the learned sigma,\n",
    "    # setting it uniformally to 1\n",
    "    classifier.sigma_ = np.ones(\n",
    "        classifier.sigma_.shape)\n",
    "    accuracyWithAdjustedSigma = classifier.score(\n",
    "        dev_data, \n",
    "        dev_labels)\n",
    "    \n",
    "    return accuracy, accuracyWithAdjustedSigma\n",
    "\n",
    "gnb, gnbMod = P9()\n",
    "print('Accuracy of Gaussian Naive Bayes: {:.1f}%'.format(gnb * 100.0))\n",
    "print('Accuracy of Gaussian Naive Bayes with adjusted sigma: {:.1f}%'.format(gnbMod * 100.00))"
   ]
  },
  {
   "cell_type": "markdown",
   "metadata": {},
   "source": [
    "ANSWER: The accuracy of the Gaussian Naive Bayes is about 20% less than the Bernoulli Naive Bayes. The Gaussian Naive Bayes operates under the assumption that each individual parameter (in this case pixel) fits a normal distribution. However a particular digit being translated or rotated may cause a needlessly high variance in pixels within a single class. One solution would be to simply \"flatten\" out the variance across all classes by setting sigma to be 1 (the variance in a standard normal distribution). This produces an accuracy that is somewhat near that of the Bernoulli Naive Bayes."
   ]
  },
  {
   "cell_type": "markdown",
   "metadata": {},
   "source": [
    "(10) Because Naive Bayes is a generative model, we can use the trained model to generate digits. Train a BernoulliNB model and then generate a 10x20 grid with 20 examples of each digit. Because you're using a Bernoulli model, each pixel output will be either 0 or 1. How do the generated digits compare to the training digits?\n",
    "\n",
    "- You can use np.random.rand() to generate random numbers from a uniform distribution\n",
    "- The estimated probability of each pixel is stored in feature\\_log\\_prob\\_. You'll need to use np.exp() to convert a log probability back to a probability."
   ]
  },
  {
   "cell_type": "code",
   "execution_count": 11,
   "metadata": {},
   "outputs": [
    {
     "data": {
      "image/png": "[encoded data removed]",
      "text/plain": [
       "<matplotlib.figure.Figure at 0x11b3aeb38>"
      ]
     },
     "metadata": {},
     "output_type": "display_data"
    }
   ],
   "source": [
    "def P10(num_examples):\n",
    "    f, subplots = plt.subplots(\n",
    "        10, \n",
    "        num_examples)\n",
    "    \n",
    "    # fit a Bernoulli Naive Bayes on the mini_train_data\n",
    "    # then extract the priors from the result\n",
    "    classifier = BernoulliNB(binarize=0.5)\n",
    "    classifier.fit(\n",
    "            mini_train_data, \n",
    "            mini_train_labels)\n",
    "    featureProbabilities = np.exp(\n",
    "        classifier.feature_log_prob_)\n",
    "    \n",
    "    for digit in range(10):  \n",
    "        for exampleNumber in range(num_examples):\n",
    "            # create the image by pulling uniform random number on [0,1] that \n",
    "            # happen to be greater than the feature priors\n",
    "            imageVector = (featureProbabilities[digit] > np.random.rand(IMAGE_HEIGHT * IMAGE_WIDTH)).astype(int)\n",
    "            subplots[digit, exampleNumber].axis('off')\n",
    "            subplots[digit, exampleNumber].imshow(\n",
    "                imageVector.reshape((IMAGE_HEIGHT, IMAGE_WIDTH)), \n",
    "                cmap='gray')\n",
    "\n",
    "P10(20)"
   ]
  },
  {
   "cell_type": "markdown",
   "metadata": {},
   "source": [
    "ANSWER: You can vaugely make out the digits here although they are generally pretty poor representations. This is likely due to the binary nature of the generation scheme. It may be helpful to allow for a continuous grayscale of pixel values to get a more smoothed output. "
   ]
  },
  {
   "cell_type": "markdown",
   "metadata": {},
   "source": [
    "(11) Remember that a strongly calibrated classifier is rougly 90% accurate when the posterior probability of the predicted class is 0.9. A weakly calibrated classifier is more accurate when the posterior is 90% than when it is 80%. A poorly calibrated classifier has no positive correlation between posterior and accuracy.\n",
    "\n",
    "Train a BernoulliNB model with a reasonable alpha value. For each posterior bucket (think of a bin in a histogram), you want to estimate the classifier's accuracy. So for each prediction, find the bucket the maximum posterior belongs to and update the \"correct\" and \"total\" counters.\n",
    "\n",
    "How would you characterize the calibration for the Naive Bayes model?"
   ]
  },
  {
   "cell_type": "code",
   "execution_count": 91,
   "metadata": {
    "scrolled": true
   },
   "outputs": [
    {
     "name": "stdout",
     "output_type": "stream",
     "text": [
      "p(pred) <= 0.5000000000000    total =   0    accuracy = 0.000\n",
      "p(pred) <= 0.9000000000000    total =  30    accuracy = 0.200\n",
      "p(pred) <= 0.9990000000000    total =  86    accuracy = 0.465\n",
      "p(pred) <= 0.9999900000000    total =  85    accuracy = 0.612\n",
      "p(pred) <= 0.9999999000000    total =  58    accuracy = 0.690\n",
      "p(pred) <= 0.9999999990000    total =  61    accuracy = 0.754\n",
      "p(pred) <= 0.9999999999900    total =  73    accuracy = 0.877\n",
      "p(pred) <= 0.9999999999999    total =  75    accuracy = 0.840\n",
      "p(pred) <= 1.0000000000000    total = 532    accuracy = 0.953\n"
     ]
    }
   ],
   "source": [
    "def P11(buckets, correct, total):\n",
    "    # Create and fit a Bernoulli Naive Bayes classifier\n",
    "    naiveBayes = BernoulliNB(\n",
    "        binarize=0.5, \n",
    "        alpha=.01)\n",
    "    naiveBayes.fit(\n",
    "        mini_train_data, \n",
    "        mini_train_labels)\n",
    "    \n",
    "    for i in range(len(dev_data)):\n",
    "        # determine which one of the probability buckets the\n",
    "        # current prediction falls into\n",
    "        data = np.array([dev_data[i]])\n",
    "        bin = np.digitize(\n",
    "            np.amax(naiveBayes.predict_proba(data)), \n",
    "            buckets,\n",
    "            right = True)\n",
    "        # increment the total and increment the correct count\n",
    "        # if the prediction matches the label\n",
    "        correct[bin] += int(naiveBayes.predict(data) == dev_labels[i])\n",
    "        total[bin] += 1\n",
    "\n",
    "buckets = [0.5, 0.9, 0.999, 0.99999, 0.9999999, 0.999999999, 0.99999999999, 0.9999999999999, 1.0]\n",
    "correct = [0 for i in buckets]\n",
    "total = [0 for i in buckets]\n",
    "\n",
    "P11(buckets, correct, total)\n",
    "\n",
    "for i in range(len(buckets)):\n",
    "    accuracy = 0.0\n",
    "    if (total[i] > 0): accuracy = correct[i] / total[i]\n",
    "    print('p(pred) <= {:.13f}    total = {:3d}    accuracy = {:.3f}'.format(buckets[i], total[i], accuracy))"
   ]
  },
  {
   "cell_type": "markdown",
   "metadata": {},
   "source": [
    "ANSWER: The classifier seems to weakly calibrated: accuracy is a mostly monotonically increasing function of the posterior probability however the two are far from equal. "
   ]
  },
  {
   "cell_type": "markdown",
   "metadata": {},
   "source": [
    "(12) EXTRA CREDIT\n",
    "\n",
    "Try designing extra features to see if you can improve the performance of Naive Bayes on the dev set. Here are a few ideas to get you started:\n",
    "- Try summing the pixel values in each row and each column.\n",
    "- Try counting the number of enclosed regions; 8 usually has 2 enclosed regions, 9 usually has 1, and 7 usually has 0.\n",
    "\n",
    "Make sure you comment your code well!"
   ]
  },
  {
   "cell_type": "code",
   "execution_count": 18,
   "metadata": {},
   "outputs": [],
   "source": [
    "#def P12():\n",
    "\n",
    "### STUDENT START ###\n",
    "\n",
    "\n",
    "### STUDENT END ###\n",
    "\n",
    "#P12()"
   ]
  }
 ],
 "metadata": {
  "kernelspec": {
   "display_name": "Python 3",
   "language": "python",
   "name": "python3"
  },
  "language_info": {
   "codemirror_mode": {
    "name": "ipython",
    "version": 3
   },
   "file_extension": ".py",
   "mimetype": "text/x-python",
   "name": "python",
   "nbconvert_exporter": "python",
   "pygments_lexer": "ipython3",
   "version": "3.6.1"
  }
 },
 "nbformat": 4,
 "nbformat_minor": 1
}
